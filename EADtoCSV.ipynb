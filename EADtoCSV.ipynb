{
 "cells": [
  {
   "cell_type": "markdown",
   "id": "1f930347-fcae-46aa-820f-c723f42f8638",
   "metadata": {},
   "source": [
    "Import necessary libraries"
   ]
  },
  {
   "cell_type": "code",
   "execution_count": 3,
   "id": "1a92d6d8-8e15-49bf-8bb1-7e9e56fceccb",
   "metadata": {},
   "outputs": [],
   "source": [
    "import html\n",
    "import csv \n",
    "import requests \n",
    "import xml.etree.ElementTree as ET "
   ]
  },
  {
   "cell_type": "markdown",
   "id": "20c28e88-b5b1-4a0d-9503-2678b3a9645e",
   "metadata": {},
   "source": [
    "Define loadRSS() function to perform get request and create the EAD XML file locally"
   ]
  },
  {
   "cell_type": "code",
   "execution_count": 4,
   "id": "f644ea8a-c7f6-4526-8b81-f3061547ca0a",
   "metadata": {},
   "outputs": [],
   "source": [
    "def loadRSS():\n",
    "    url = 'https://archives.lib.duke.edu/catalog/africanamericansfilm/xml'\n",
    "    resp = requests.get(url) \n",
    "    with open('afamfilm.xml', 'wb') as f: \n",
    "        f.write(resp.content)"
   ]
  },
  {
   "cell_type": "markdown",
   "id": "d4688fc3-5d74-4cf6-8369-927d6e7906da",
   "metadata": {},
   "source": [
    "Use the ElementTree XML API to parse the XML file"
   ]
  },
  {
   "cell_type": "code",
   "execution_count": 5,
   "id": "42d29f32-9a3a-4ec5-81e3-44077397b75e",
   "metadata": {},
   "outputs": [],
   "source": [
    "ElementTree = ET.parse('afamfilm.xml')"
   ]
  },
  {
   "cell_type": "markdown",
   "id": "2e2147e4-c4af-4e5e-8f25-c5608ed80e30",
   "metadata": {},
   "source": [
    "Use the getroot() method to isolate root element and then print function to show the root's value. Copying the root value will be necessary for the parseXML() function below"
   ]
  },
  {
   "cell_type": "code",
   "execution_count": 6,
   "id": "eaa456e3-09da-42c5-aa8b-be9dcd9a3758",
   "metadata": {},
   "outputs": [
    {
     "name": "stdout",
     "output_type": "stream",
     "text": [
      "<Element '{urn:isbn:1-931666-22-9}ead' at 0x7fed5bf94090>\n"
     ]
    }
   ],
   "source": [
    "root = ElementTree.getroot()\n",
    "print(root)"
   ]
  },
  {
   "cell_type": "markdown",
   "id": "c83e5f6e-556f-40e8-90cf-f57f69772724",
   "metadata": {},
   "source": [
    "Beginning with the root element, loop down through the XML file hierarchy to reveal the EAD headings present in the document"
   ]
  },
  {
   "cell_type": "code",
   "execution_count": null,
   "id": "f57205bf-9542-4403-9405-94cf3d44cd21",
   "metadata": {},
   "outputs": [],
   "source": [
    "for a in root:\n",
    "    print(a)\n",
    "    for b in a:\n",
    "        print(b)\n",
    "        for c in b:\n",
    "            print(c)\n",
    "            for d in c:\n",
    "                print(d)\n",
    "                for e in d:\n",
    "                    print(e)"
   ]
  },
  {
   "cell_type": "markdown",
   "id": "650a6ce0-ed3f-4d29-a43e-6e716ba45e18",
   "metadata": {},
   "source": [
    "Having identified what values in the EAD are necessary for your entity data model, use the .findall() function and looping to create a dictionary representation of each item and add each dictionary to the list of items. Note the use of the html.unescape function here due to the use of embedded html elements in the EAD XML file within <scopecontent> fields"
   ]
  },
  {
   "cell_type": "code",
   "execution_count": 8,
   "id": "eb53d359-edf3-4a32-8a5e-18a24c7598d6",
   "metadata": {},
   "outputs": [],
   "source": [
    "def parseXML(xmlfile):\n",
    "    import html\n",
    "    tree = ET.parse(xmlfile)\n",
    "    root = tree.getroot()\n",
    "    items = []\n",
    "    for item in root.findall('.//{urn:isbn:1-931666-22-9}c01'):\n",
    "        data = {}\n",
    "        for did_headings in item.findall('.//{urn:isbn:1-931666-22-9}did'):\n",
    "            for unittitle in did_headings.findall('.//{urn:isbn:1-931666-22-9}unittitle'):\n",
    "                for title in unittitle.findall('.//{urn:isbn:1-931666-22-9}title'):\n",
    "                    data['title'] = title.text\n",
    "            for unitdate in did_headings.findall('.//{urn:isbn:1-931666-22-9}unitdate'):\n",
    "                data['date'] = unitdate.text\n",
    "            for container in did_headings.findall('.//{urn:isbn:1-931666-22-9}container'):\n",
    "                data['container'] = (container.attrib['type'] + ' ' + container.text)\n",
    "        for scopecontent in item.findall('.//{urn:isbn:1-931666-22-9}scopecontent'):\n",
    "            for p in scopecontent.findall('.//{urn:isbn:1-931666-22-9}p'):\n",
    "                data['description'] = html.unescape(p).text.replace('\\n           ','')\n",
    "        items.append(data)\n",
    "    return items"
   ]
  },
  {
   "cell_type": "markdown",
   "id": "c39eee10-6bcb-40f3-8db6-511a5f4e0a59",
   "metadata": {},
   "source": [
    "Define a savetoCSV funtion to write your items list to a .csv file. Replace the column names as necessary "
   ]
  },
  {
   "cell_type": "code",
   "execution_count": 9,
   "id": "c3a91995-d5b5-4850-a158-ae6419093305",
   "metadata": {},
   "outputs": [],
   "source": [
    "def savetoCSV(items, csv_file):\n",
    "    import csv\n",
    "    columns = ['title','date','container','description']\n",
    "    with open(csv_file, 'w') as csvfile:\n",
    "        writer = csv.DictWriter(csvfile, fieldnames=columns)\n",
    "        writer.writeheader()\n",
    "        for item in items:\n",
    "            writer.writerow(item)"
   ]
  },
  {
   "cell_type": "markdown",
   "id": "2dbd43bc-a050-43c8-9ba0-fed0f8463296",
   "metadata": {},
   "source": [
    "Here is the main script. Run this code block after all previous cells to produce required archival item data as a .csv"
   ]
  },
  {
   "cell_type": "code",
   "execution_count": 10,
   "id": "8a77954f-fa39-4050-815e-68744ef98507",
   "metadata": {},
   "outputs": [],
   "source": [
    "loadRSS()\n",
    "items = parseXML('afamfilm.xml')\n",
    "savetoCSV(items, 'afamfilm.csv')"
   ]
  },
  {
   "cell_type": "markdown",
   "id": "1b2166af-444e-45fa-b0f2-0c4ed97f722f",
   "metadata": {},
   "source": [
    "Code cells below this comment demonstrate how the pandas library can be used to read the resulting .csv into a dataframe and subsequent methods can clean and deduplicate data for other entity categories present in the archival item data"
   ]
  },
  {
   "cell_type": "code",
   "execution_count": 69,
   "id": "08fdca9d-5eae-4214-baa3-8d903dd7f433",
   "metadata": {},
   "outputs": [],
   "source": [
    "import pandas as pd"
   ]
  },
  {
   "cell_type": "code",
   "execution_count": 70,
   "id": "24cb4fe3-a0af-4a2a-b4b5-7aff86f0db56",
   "metadata": {},
   "outputs": [],
   "source": [
    "items = pd.read_csv('afamfilm.csv')"
   ]
  },
  {
   "cell_type": "code",
   "execution_count": 78,
   "id": "46e19f5c-7430-4772-b73d-873c58886dce",
   "metadata": {},
   "outputs": [],
   "source": [
    "films = items[['title','date']]"
   ]
  },
  {
   "cell_type": "code",
   "execution_count": 79,
   "id": "0a0f96aa-6c58-4908-b06f-799c8e8030be",
   "metadata": {},
   "outputs": [
    {
     "data": {
      "text/html": [
       "<div>\n",
       "<style scoped>\n",
       "    .dataframe tbody tr th:only-of-type {\n",
       "        vertical-align: middle;\n",
       "    }\n",
       "\n",
       "    .dataframe tbody tr th {\n",
       "        vertical-align: top;\n",
       "    }\n",
       "\n",
       "    .dataframe thead th {\n",
       "        text-align: right;\n",
       "    }\n",
       "</style>\n",
       "<table border=\"1\" class=\"dataframe\">\n",
       "  <thead>\n",
       "    <tr style=\"text-align: right;\">\n",
       "      <th></th>\n",
       "      <th>title</th>\n",
       "      <th>date</th>\n",
       "    </tr>\n",
       "  </thead>\n",
       "  <tbody>\n",
       "    <tr>\n",
       "      <th>0</th>\n",
       "      <td>48 Hours</td>\n",
       "      <td>1982</td>\n",
       "    </tr>\n",
       "    <tr>\n",
       "      <th>1</th>\n",
       "      <td>A.K.A. Cassius Clay</td>\n",
       "      <td>1970</td>\n",
       "    </tr>\n",
       "    <tr>\n",
       "      <th>2</th>\n",
       "      <td>Aaron Loves Angela</td>\n",
       "      <td>1975</td>\n",
       "    </tr>\n",
       "    <tr>\n",
       "      <th>3</th>\n",
       "      <td>Abby</td>\n",
       "      <td>1974</td>\n",
       "    </tr>\n",
       "    <tr>\n",
       "      <th>4</th>\n",
       "      <td>Across 110th Street</td>\n",
       "      <td>1972</td>\n",
       "    </tr>\n",
       "  </tbody>\n",
       "</table>\n",
       "</div>"
      ],
      "text/plain": [
       "                  title  date\n",
       "0              48 Hours  1982\n",
       "1   A.K.A. Cassius Clay  1970\n",
       "2   Aaron Loves Angela   1975\n",
       "3                  Abby  1974\n",
       "4  Across 110th Street   1972"
      ]
     },
     "execution_count": 79,
     "metadata": {},
     "output_type": "execute_result"
    }
   ],
   "source": [
    "films.head()"
   ]
  },
  {
   "cell_type": "code",
   "execution_count": 80,
   "id": "e66b5eb7-b06f-4234-9d80-c8f741009928",
   "metadata": {},
   "outputs": [
    {
     "data": {
      "text/html": [
       "<div>\n",
       "<style scoped>\n",
       "    .dataframe tbody tr th:only-of-type {\n",
       "        vertical-align: middle;\n",
       "    }\n",
       "\n",
       "    .dataframe tbody tr th {\n",
       "        vertical-align: top;\n",
       "    }\n",
       "\n",
       "    .dataframe thead th {\n",
       "        text-align: right;\n",
       "    }\n",
       "</style>\n",
       "<table border=\"1\" class=\"dataframe\">\n",
       "  <thead>\n",
       "    <tr style=\"text-align: right;\">\n",
       "      <th></th>\n",
       "      <th>title</th>\n",
       "      <th>date</th>\n",
       "    </tr>\n",
       "  </thead>\n",
       "  <tbody>\n",
       "    <tr>\n",
       "      <th>0</th>\n",
       "      <td>48 Hours</td>\n",
       "      <td>1982</td>\n",
       "    </tr>\n",
       "    <tr>\n",
       "      <th>1</th>\n",
       "      <td>A.K.A. Cassius Clay</td>\n",
       "      <td>1970</td>\n",
       "    </tr>\n",
       "    <tr>\n",
       "      <th>2</th>\n",
       "      <td>Aaron Loves Angela</td>\n",
       "      <td>1975</td>\n",
       "    </tr>\n",
       "    <tr>\n",
       "      <th>3</th>\n",
       "      <td>Abby</td>\n",
       "      <td>1974</td>\n",
       "    </tr>\n",
       "    <tr>\n",
       "      <th>4</th>\n",
       "      <td>Across 110th Street</td>\n",
       "      <td>1972</td>\n",
       "    </tr>\n",
       "    <tr>\n",
       "      <th>...</th>\n",
       "      <td>...</td>\n",
       "      <td>...</td>\n",
       "    </tr>\n",
       "    <tr>\n",
       "      <th>466</th>\n",
       "      <td>World's Greatest Athlete, The</td>\n",
       "      <td>1973</td>\n",
       "    </tr>\n",
       "    <tr>\n",
       "      <th>467</th>\n",
       "      <td>Wusa</td>\n",
       "      <td>1970</td>\n",
       "    </tr>\n",
       "    <tr>\n",
       "      <th>468</th>\n",
       "      <td>Youngblood</td>\n",
       "      <td>1978</td>\n",
       "    </tr>\n",
       "    <tr>\n",
       "      <th>469</th>\n",
       "      <td>Zebra Killer</td>\n",
       "      <td>1974</td>\n",
       "    </tr>\n",
       "    <tr>\n",
       "      <th>470</th>\n",
       "      <td>Zircon</td>\n",
       "      <td>1920</td>\n",
       "    </tr>\n",
       "  </tbody>\n",
       "</table>\n",
       "<p>471 rows × 2 columns</p>\n",
       "</div>"
      ],
      "text/plain": [
       "                             title  date\n",
       "0                         48 Hours  1982\n",
       "1              A.K.A. Cassius Clay  1970\n",
       "2              Aaron Loves Angela   1975\n",
       "3                             Abby  1974\n",
       "4             Across 110th Street   1972\n",
       "..                             ...   ...\n",
       "466  World's Greatest Athlete, The  1973\n",
       "467                           Wusa  1970\n",
       "468                    Youngblood   1978\n",
       "469                  Zebra Killer   1974\n",
       "470                         Zircon  1920\n",
       "\n",
       "[471 rows x 2 columns]"
      ]
     },
     "execution_count": 80,
     "metadata": {},
     "output_type": "execute_result"
    }
   ],
   "source": [
    "films"
   ]
  },
  {
   "cell_type": "code",
   "execution_count": 81,
   "id": "1db6ee56-afdb-485b-ba8c-5fbe76f17a17",
   "metadata": {},
   "outputs": [
    {
     "data": {
      "text/html": [
       "<div>\n",
       "<style scoped>\n",
       "    .dataframe tbody tr th:only-of-type {\n",
       "        vertical-align: middle;\n",
       "    }\n",
       "\n",
       "    .dataframe tbody tr th {\n",
       "        vertical-align: top;\n",
       "    }\n",
       "\n",
       "    .dataframe thead th {\n",
       "        text-align: right;\n",
       "    }\n",
       "</style>\n",
       "<table border=\"1\" class=\"dataframe\">\n",
       "  <thead>\n",
       "    <tr style=\"text-align: right;\">\n",
       "      <th></th>\n",
       "      <th>title</th>\n",
       "      <th>date</th>\n",
       "    </tr>\n",
       "  </thead>\n",
       "  <tbody>\n",
       "    <tr>\n",
       "      <th>0</th>\n",
       "      <td>48 Hours</td>\n",
       "      <td>1982</td>\n",
       "    </tr>\n",
       "    <tr>\n",
       "      <th>1</th>\n",
       "      <td>A.K.A. Cassius Clay</td>\n",
       "      <td>1970</td>\n",
       "    </tr>\n",
       "    <tr>\n",
       "      <th>2</th>\n",
       "      <td>Aaron Loves Angela</td>\n",
       "      <td>1975</td>\n",
       "    </tr>\n",
       "    <tr>\n",
       "      <th>3</th>\n",
       "      <td>Abby</td>\n",
       "      <td>1974</td>\n",
       "    </tr>\n",
       "    <tr>\n",
       "      <th>4</th>\n",
       "      <td>Across 110th Street</td>\n",
       "      <td>1972</td>\n",
       "    </tr>\n",
       "    <tr>\n",
       "      <th>...</th>\n",
       "      <td>...</td>\n",
       "      <td>...</td>\n",
       "    </tr>\n",
       "    <tr>\n",
       "      <th>466</th>\n",
       "      <td>World's Greatest Athlete, The</td>\n",
       "      <td>1973</td>\n",
       "    </tr>\n",
       "    <tr>\n",
       "      <th>467</th>\n",
       "      <td>Wusa</td>\n",
       "      <td>1970</td>\n",
       "    </tr>\n",
       "    <tr>\n",
       "      <th>468</th>\n",
       "      <td>Youngblood</td>\n",
       "      <td>1978</td>\n",
       "    </tr>\n",
       "    <tr>\n",
       "      <th>469</th>\n",
       "      <td>Zebra Killer</td>\n",
       "      <td>1974</td>\n",
       "    </tr>\n",
       "    <tr>\n",
       "      <th>470</th>\n",
       "      <td>Zircon</td>\n",
       "      <td>1920</td>\n",
       "    </tr>\n",
       "  </tbody>\n",
       "</table>\n",
       "<p>385 rows × 2 columns</p>\n",
       "</div>"
      ],
      "text/plain": [
       "                             title  date\n",
       "0                         48 Hours  1982\n",
       "1              A.K.A. Cassius Clay  1970\n",
       "2              Aaron Loves Angela   1975\n",
       "3                             Abby  1974\n",
       "4             Across 110th Street   1972\n",
       "..                             ...   ...\n",
       "466  World's Greatest Athlete, The  1973\n",
       "467                           Wusa  1970\n",
       "468                    Youngblood   1978\n",
       "469                  Zebra Killer   1974\n",
       "470                         Zircon  1920\n",
       "\n",
       "[385 rows x 2 columns]"
      ]
     },
     "execution_count": 81,
     "metadata": {},
     "output_type": "execute_result"
    }
   ],
   "source": [
    "films = films.drop_duplicates()\n",
    "films"
   ]
  },
  {
   "cell_type": "code",
   "execution_count": 82,
   "id": "2c144399-2295-4a4e-b8a4-f295945f54a2",
   "metadata": {},
   "outputs": [],
   "source": [
    "films.to_csv('films.csv')"
   ]
  },
  {
   "cell_type": "code",
   "execution_count": 83,
   "id": "a567938f-ca90-4df0-915b-2118b25b360f",
   "metadata": {},
   "outputs": [],
   "source": [
    "containers = items['container']"
   ]
  },
  {
   "cell_type": "code",
   "execution_count": 85,
   "id": "cb9aa932-46a4-4b2f-acc1-a258e57662c3",
   "metadata": {},
   "outputs": [],
   "source": [
    "containers = containers.drop_duplicates()"
   ]
  },
  {
   "cell_type": "code",
   "execution_count": 86,
   "id": "09487c8c-ec4f-4cd8-8735-f13cdedb782e",
   "metadata": {},
   "outputs": [
    {
     "data": {
      "text/plain": [
       "0                   box 1\n",
       "2      oversize-folder 14\n",
       "3       oversize-folder 1\n",
       "4                   box 5\n",
       "16                 tube 1\n",
       "26     oversize-folder 15\n",
       "40     oversize-folder 16\n",
       "48      oversize-folder 2\n",
       "59     oversize-folder 17\n",
       "72     oversize-folder 18\n",
       "81      oversize-folder 3\n",
       "84                  box 6\n",
       "105    oversize-folder 19\n",
       "121    oversize-folder 20\n",
       "132                 box 2\n",
       "133     oversize-folder 4\n",
       "145    oversize-folder 21\n",
       "167    oversize-folder 22\n",
       "188     oversize-folder 5\n",
       "199    oversize-folder 23\n",
       "220     oversize-folder 6\n",
       "221    oversize-folder 24\n",
       "239    oversize-folder 25\n",
       "241                 box 3\n",
       "257    oversize-folder 26\n",
       "265     oversize-folder 7\n",
       "289    oversize-folder 27\n",
       "293     oversize-folder 8\n",
       "310    oversize-folder 28\n",
       "339                 box 4\n",
       "343    oversize-folder 29\n",
       "347     oversize-folder 9\n",
       "360    oversize-folder 30\n",
       "364    oversize-folder 10\n",
       "383    oversize-folder 31\n",
       "403    oversize-folder 32\n",
       "425    oversize-folder 11\n",
       "442    oversize-folder 12\n",
       "451    oversize-folder 33\n",
       "Name: container, dtype: object"
      ]
     },
     "execution_count": 86,
     "metadata": {},
     "output_type": "execute_result"
    }
   ],
   "source": [
    "containers\n"
   ]
  },
  {
   "cell_type": "code",
   "execution_count": 89,
   "id": "5c33a8ee-1645-4c16-8145-b2199c9a8dbf",
   "metadata": {},
   "outputs": [],
   "source": [
    "containers.to_csv(\"containers.csv\")"
   ]
  },
  {
   "cell_type": "code",
   "execution_count": null,
   "id": "df8bc939-7a25-4f49-82d9-6b467551d445",
   "metadata": {},
   "outputs": [],
   "source": []
  }
 ],
 "metadata": {
  "kernelspec": {
   "display_name": "Python 3 (ipykernel)",
   "language": "python",
   "name": "python3"
  },
  "language_info": {
   "codemirror_mode": {
    "name": "ipython",
    "version": 3
   },
   "file_extension": ".py",
   "mimetype": "text/x-python",
   "name": "python",
   "nbconvert_exporter": "python",
   "pygments_lexer": "ipython3",
   "version": "3.10.14"
  }
 },
 "nbformat": 4,
 "nbformat_minor": 5
}
